{
 "cells": [
  {
   "cell_type": "code",
   "execution_count": 9,
   "metadata": {},
   "outputs": [],
   "source": [
    "%matplotlib inline\n",
    "from matplotlib import style\n",
    "style.use('fivethirtyeight')\n",
    "import matplotlib.pyplot as plt"
   ]
  },
  {
   "cell_type": "code",
   "execution_count": 10,
   "metadata": {},
   "outputs": [],
   "source": [
    "import numpy as np\n",
    "import pandas as pd\n",
    "import datetime as dt"
   ]
  },
  {
   "cell_type": "markdown",
   "metadata": {},
   "source": [
    "# Reflect Tables into SQLAlchemy ORM"
   ]
  },
  {
   "cell_type": "code",
   "execution_count": 11,
   "metadata": {},
   "outputs": [],
   "source": [
    "# Python SQL toolkit and Object Relational Mapper\n",
    "import sqlalchemy\n",
    "from sqlalchemy.ext.automap import automap_base\n",
    "from sqlalchemy.orm import Session\n",
    "from sqlalchemy import create_engine, func"
   ]
  },
  {
   "cell_type": "code",
   "execution_count": 12,
   "metadata": {},
   "outputs": [],
   "source": [
    "# # create engine to hawaii.sqlite\n",
    "engine = create_engine(\"sqlite:///Resources/hawaii.sqlite\")"
   ]
  },
  {
   "cell_type": "code",
   "execution_count": 13,
   "metadata": {},
   "outputs": [
    {
     "name": "stdout",
     "output_type": "stream",
     "text": [
      "measurement\n",
      "station\n"
     ]
    }
   ],
   "source": [
    "# reflect an existing database into a new model\n",
    "Base = automap_base()\n",
    "Base.prepare(engine, reflect=True)\n",
    "\n",
    "# Access the classes attribute to get all the classes\n",
    "classes = Base.classes\n",
    "\n",
    "# reflect the tables\n",
    "for class_name, class_obj in classes.items():\n",
    "    print(class_name)\n",
    "\n",
    "# View all of the classes that automap found\n",
    "classes = Base.classes"
   ]
  },
  {
   "cell_type": "code",
   "execution_count": 14,
   "metadata": {},
   "outputs": [],
   "source": [
    "# Create our session (link) from Python to the DB\n",
    "session = Session(engine)"
   ]
  },
  {
   "cell_type": "markdown",
   "metadata": {},
   "source": [
    "# Exploratory Precipitation Analysis"
   ]
  },
  {
   "cell_type": "code",
   "execution_count": 15,
   "metadata": {},
   "outputs": [
    {
     "ename": "NameError",
     "evalue": "name 'hawaii' is not defined",
     "output_type": "error",
     "traceback": [
      "\u001b[0;31m---------------------------------------------------------------------------\u001b[0m",
      "\u001b[0;31mNameError\u001b[0m                                 Traceback (most recent call last)",
      "Cell \u001b[0;32mIn[15], line 2\u001b[0m\n\u001b[1;32m      1\u001b[0m \u001b[38;5;66;03m# Find the most recent date in the data set.\u001b[39;00m\n\u001b[0;32m----> 2\u001b[0m recent_date \u001b[38;5;241m=\u001b[39m session\u001b[38;5;241m.\u001b[39mquery(func\u001b[38;5;241m.\u001b[39mmax(\u001b[43mhawaii\u001b[49m\u001b[38;5;241m.\u001b[39mdate))\u001b[38;5;241m.\u001b[39mscalar()\n\u001b[1;32m      3\u001b[0m \u001b[38;5;28mprint\u001b[39m(recent_date)\n",
      "\u001b[0;31mNameError\u001b[0m: name 'hawaii' is not defined"
     ]
    }
   ],
   "source": [
    "# Find the most recent date in the data set.\n",
    "recent_date = session.query(func.max(hawaii.date)).scalar()\n",
    "print(recent_date)"
   ]
  },
  {
   "cell_type": "code",
   "execution_count": null,
   "metadata": {},
   "outputs": [],
   "source": [
    "# Design a query to retrieve the last 12 months of precipitation data and plot the results. \n",
    "# Starting from the most recent data point in the database. \n",
    "\n",
    "# Calculate the date one year from the last date in data set.\n",
    "latest_date = session.query(hawaii.date).order_by(hawaii.date.desc()).first()[0]\n",
    "one_year_ago = latest_date - pd.Timedelta(days=365)\n",
    "\n",
    "# Perform a query to retrieve the data and precipitation scores\n",
    "precipitation_data = session.query(hawaii.date, hawaii.prcp)\\\n",
    "                            .filter(hawaii.date >= one_year_ago)\\\n",
    "                            .order_by(hawaii.date)\\\n",
    "                            .all()\n",
    "\n",
    "# Save the query results as a Pandas DataFrame. Explicitly set the column names\n",
    "hawaii_df = pd.DataFrame(precipitation_data, columns=['Date', 'Precipitation'])\n",
    "\n",
    "# Sort the dataframe by date\n",
    "hawaii_df = hawaii_df.sort_values('Date')\n",
    "\n",
    "\n",
    "# Use Pandas Plotting with Matplotlib to plot the data\n",
    "df.plot(x='Date', y='Precipitation', figsize=(10, 6))\n",
    "plt.title('Precipitation Over the Last 12 Months')\n",
    "plt.xlabel('Date')\n",
    "plt.ylabel('Precipitation (inches)')\n",
    "plt.xticks(rotation=45)\n",
    "plt.tight_layout()\n",
    "plt.show()\n",
    "\n"
   ]
  },
  {
   "cell_type": "code",
   "execution_count": null,
   "metadata": {},
   "outputs": [],
   "source": [
    "# Use Pandas to calculate the summary statistics for the precipitation data\n",
    "# Assuming 'df' is your DataFrame containing the precipitation data\n",
    "summary_statistics = hawaii_df['Precipitation'].describe()\n",
    "\n",
    "print(summary_statistics)\n"
   ]
  },
  {
   "cell_type": "markdown",
   "metadata": {},
   "source": [
    "# Exploratory Station Analysis"
   ]
  },
  {
   "cell_type": "code",
   "execution_count": null,
   "metadata": {},
   "outputs": [],
   "source": [
    "# Design a query to calculate the total number of stations in the datase\n",
    "total_stations = session.query(func.count(hawaii.station_id)).scalar()\n",
    "\n",
    "print(total_stations)\n"
   ]
  },
  {
   "cell_type": "code",
   "execution_count": null,
   "metadata": {},
   "outputs": [],
   "source": [
    "# Design a query to find the most active stations (i.e. which stations have the most rows?)\n",
    "# List the stations and their counts in descending order.\n",
    "most_active_stations = session.query(hawaii.station, func.count(hawaii.station))\\\n",
    "                              .group_by(hawaii.station)\\\n",
    "                              .order_by(func.count(hawaii.station).desc())\\\n",
    "                              .all()\n",
    "print(most_active_stations)"
   ]
  },
  {
   "cell_type": "code",
   "execution_count": null,
   "metadata": {},
   "outputs": [],
   "source": [
    "# Using the most active station id from the previous query, calculate the lowest, highest, and average temperature.\n",
    "most_active_station = session.query(hawaii.station, func.count(hawaii.station))\\\n",
    "                              .group_by(hawaii.station)\\\n",
    "                              .order_by(func.count(hawaii.station).desc())\\\n",
    "                              .first()[0]\n",
    "\n",
    "temperature_stats = session.query(func.min(hawaii.tobs), func.avg(hawaii.tobs), func.max(hawaii.tobs))\\\n",
    "                            .filter(hawaii.station == most_active_station)\\\n",
    "                            .first()\n",
    "\n",
    "print(temperature_stats)\n"
   ]
  },
  {
   "cell_type": "code",
   "execution_count": null,
   "metadata": {},
   "outputs": [],
   "source": [
    "# Using the most active station id\n",
    "# Query the last 12 months of temperature observation data for this station and plot the results as a histogram\n",
    "# Step 1: Calculate the date one year ago from the most recent date in the dataset\n",
    "latest_date = session.query(func.max(hawaii.date)).scalar()\n",
    "one_year_ago = latest_date - pd.Timedelta(days=365)\n",
    "\n",
    "# Step 2: Perform a query to retrieve temperature observations for the most active station from the last 12 months\n",
    "temperature_observations = session.query(hawaii.tobs)\\\n",
    "                                  .filter(hawaii.station == most_active_station)\\\n",
    "                                  .filter(hawaii.date >= one_year_ago)\\\n",
    "                                  .all()\n",
    "\n",
    "# Step 3: Save the query results into a Pandas DataFrame\n",
    "hawaii_tobs_df = pd.DataFrame(temperature_observations, columns=['Temperature'])\n",
    "\n",
    "# Step 4: Plot the histogram of temperature observations\n",
    "plt.hist(df['Temperature'], bins=12, edgecolor='black')\n",
    "plt.title('Temperature Observations for the Last 12 Months')\n",
    "plt.xlabel('Temperature (°F)')\n",
    "plt.ylabel('Frequency')\n",
    "plt.grid(True)\n",
    "plt.show()\n"
   ]
  },
  {
   "cell_type": "markdown",
   "metadata": {},
   "source": [
    "# Close Session"
   ]
  },
  {
   "cell_type": "code",
   "execution_count": null,
   "metadata": {},
   "outputs": [],
   "source": [
    "# Close Session\n",
    "session.close()"
   ]
  },
  {
   "cell_type": "code",
   "execution_count": null,
   "metadata": {},
   "outputs": [],
   "source": []
  }
 ],
 "metadata": {
  "anaconda-cloud": {},
  "kernel_info": {
   "name": "python3"
  },
  "kernelspec": {
   "display_name": "Python 3 (ipykernel)",
   "language": "python",
   "name": "python3"
  },
  "language_info": {
   "codemirror_mode": {
    "name": "ipython",
    "version": 3
   },
   "file_extension": ".py",
   "mimetype": "text/x-python",
   "name": "python",
   "nbconvert_exporter": "python",
   "pygments_lexer": "ipython3",
   "version": "3.10.13"
  },
  "nteract": {
   "version": "0.12.3"
  },
  "varInspector": {
   "cols": {
    "lenName": 16,
    "lenType": 16,
    "lenVar": 40
   },
   "kernels_config": {
    "python": {
     "delete_cmd_postfix": "",
     "delete_cmd_prefix": "del ",
     "library": "var_list.py",
     "varRefreshCmd": "print(var_dic_list())"
    },
    "r": {
     "delete_cmd_postfix": ") ",
     "delete_cmd_prefix": "rm(",
     "library": "var_list.r",
     "varRefreshCmd": "cat(var_dic_list()) "
    }
   },
   "types_to_exclude": [
    "module",
    "function",
    "builtin_function_or_method",
    "instance",
    "_Feature"
   ],
   "window_display": false
  }
 },
 "nbformat": 4,
 "nbformat_minor": 2
}
